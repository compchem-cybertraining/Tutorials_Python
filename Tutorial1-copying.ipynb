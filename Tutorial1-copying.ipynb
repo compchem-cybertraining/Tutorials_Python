{
 "cells": [
  {
   "cell_type": "markdown",
   "metadata": {},
   "source": [
    "# Tutorial 1: Deep vs. Shallow copying in Python\n",
    "\n",
    "\n",
    "Perhaps, one of the most \"dangerous\" things you can do in Python is to copy variables.\n",
    "\n",
    "Most of the time, copying in Python is made by reference, which is also called *shallow* copying, and this is something is so simple to overlook or disregard.\n",
    "\n",
    "This type of copying applies to the Python objects, but not to elementary data types, such as floats or so.\n",
    "\n",
    "So, when you are doing the following:"
   ]
  },
  {
   "cell_type": "code",
   "execution_count": 1,
   "metadata": {},
   "outputs": [
    {
     "name": "stdout",
     "output_type": "stream",
     "text": [
      "x = 10, y = 10\n",
      "x = 20, y = 10\n"
     ]
    }
   ],
   "source": [
    "x = 10\n",
    "y = x\n",
    "print(F\"x = {x}, y = {y}\")\n",
    "\n",
    "x = 20\n",
    "print(F\"x = {x}, y = {y}\")"
   ]
  },
  {
   "cell_type": "markdown",
   "metadata": {},
   "source": [
    "all works as you expect. \n",
    "\n",
    "However, consider doing the same with lists:"
   ]
  },
  {
   "cell_type": "code",
   "execution_count": 2,
   "metadata": {},
   "outputs": [
    {
     "name": "stdout",
     "output_type": "stream",
     "text": [
      "x = [10, 10], y = [10, 10]\n",
      "x = [10, 20], y = [10, 20]\n"
     ]
    }
   ],
   "source": [
    "x = [10, 10]\n",
    "y = x\n",
    "print(F\"x = {x}, y = {y}\")\n",
    "\n",
    "x[1] = 20\n",
    "print(F\"x = {x}, y = {y}\")"
   ]
  },
  {
   "cell_type": "markdown",
   "metadata": {},
   "source": [
    "You may be thinking that after `y = x`, the two variables (lists) are independent of each other and modifying one will not affect the other. But this is **wrong**\n",
    "\n",
    "Python has now two variables `x` and `y` that point (reference to) the same chunck of memory, holding some objects. So, you essentially habe two aliases to refer to the same data. Therefore, changing `x` will modify `y`.\n",
    "\n",
    "You maybe thinking that, \"oh, we have assigned x to y, so it kinda makes sense that y knows the changes of x\", but lets try changing `y`:"
   ]
  },
  {
   "cell_type": "code",
   "execution_count": 3,
   "metadata": {},
   "outputs": [
    {
     "name": "stdout",
     "output_type": "stream",
     "text": [
      "x = [10, 10], y = [10, 10]\n",
      "x = [10, 20], y = [10, 20]\n"
     ]
    }
   ],
   "source": [
    "x = [10, 10]\n",
    "y = x\n",
    "print(F\"x = {x}, y = {y}\")\n",
    "\n",
    "y[1] = 20\n",
    "print(F\"x = {x}, y = {y}\")"
   ]
  },
  {
   "cell_type": "markdown",
   "metadata": {},
   "source": [
    "We get the same behavior. And for a good reason - those two are the aliases of the same data, so the order in the initial assignment doesn't matter.\n",
    "\n",
    "So, how to deal with this situation?\n",
    "\n",
    "The answer is - to use *deep* copying, or the copying by value (as opposed to by reference). In practice, this is done by calling the copy constructors of the corresponding objects. \n",
    "\n",
    "For the lists it looks like this:"
   ]
  },
  {
   "cell_type": "code",
   "execution_count": 4,
   "metadata": {},
   "outputs": [
    {
     "name": "stdout",
     "output_type": "stream",
     "text": [
      "x = [10, 10], y = [10, 10]\n",
      "x = [10, 10], y = [10, 20]\n"
     ]
    }
   ],
   "source": [
    "x = [10, 10]\n",
    "y = list(x)\n",
    "print(F\"x = {x}, y = {y}\")\n",
    "\n",
    "y[1] = 20\n",
    "print(F\"x = {x}, y = {y}\")"
   ]
  },
  {
   "cell_type": "markdown",
   "metadata": {},
   "source": [
    "So this works as you expect - you change one variable, and this doesn't affect the otheer one.\n",
    "\n",
    "\n",
    "You need to keep in mind the way the copying is done in Python all the time.\n",
    "\n",
    "Imagine you design a function that returns a variable and its copy:"
   ]
  },
  {
   "cell_type": "code",
   "execution_count": 5,
   "metadata": {},
   "outputs": [],
   "source": [
    "def my_func():\n",
    "    x = [0, 1, 2]\n",
    "    \n",
    "    return x, x\n",
    "\n",
    "x, y = my_func()"
   ]
  },
  {
   "cell_type": "markdown",
   "metadata": {},
   "source": [
    "So, you may be thinking that the function creates two independent variables as a returned result, `x` and `y` (and this would likely be the behavior the user of your function would expect), it returns just two references to the same variable.\n",
    "\n",
    "As a result, when you change one list, the other one changes too\n"
   ]
  },
  {
   "cell_type": "code",
   "execution_count": 6,
   "metadata": {},
   "outputs": [
    {
     "name": "stdout",
     "output_type": "stream",
     "text": [
      "x = [0, 1, 2], y = [0, 1, 2]\n",
      "x = [0, 100, 2], y = [0, 100, 2]\n"
     ]
    }
   ],
   "source": [
    "print(F\"x = {x}, y = {y}\")\n",
    "y[1] = 100\n",
    "print(F\"x = {x}, y = {y}\")"
   ]
  },
  {
   "cell_type": "markdown",
   "metadata": {},
   "source": [
    "### Exercise:\n",
    "\n",
    "How to modify the function so it behaves properly?\n",
    "\n",
    "\n",
    "### Solution:"
   ]
  },
  {
   "cell_type": "code",
   "execution_count": 7,
   "metadata": {},
   "outputs": [
    {
     "name": "stdout",
     "output_type": "stream",
     "text": [
      "x = [0, 1, 2], y = [0, 1, 2]\n",
      "x = [0, 1, 2], y = [0, 100, 2]\n"
     ]
    }
   ],
   "source": [
    "def my_func():\n",
    "    x = [0, 1, 2]\n",
    "    \n",
    "    return x, list(x)\n",
    "\n",
    "x, y = my_func()\n",
    "\n",
    "print(F\"x = {x}, y = {y}\")\n",
    "y[1] = 100\n",
    "print(F\"x = {x}, y = {y}\")"
   ]
  },
  {
   "cell_type": "code",
   "execution_count": null,
   "metadata": {},
   "outputs": [],
   "source": []
  }
 ],
 "metadata": {
  "kernelspec": {
   "display_name": "Python 3",
   "language": "python",
   "name": "python3"
  },
  "language_info": {
   "codemirror_mode": {
    "name": "ipython",
    "version": 3
   },
   "file_extension": ".py",
   "mimetype": "text/x-python",
   "name": "python",
   "nbconvert_exporter": "python",
   "pygments_lexer": "ipython3",
   "version": "3.7.6"
  }
 },
 "nbformat": 4,
 "nbformat_minor": 4
}
